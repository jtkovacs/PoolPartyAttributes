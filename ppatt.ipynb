{
 "cells": [
  {
   "cell_type": "code",
   "execution_count": 19,
   "metadata": {
    "collapsed": false
   },
   "outputs": [],
   "source": [
    "import json\n",
    "import sys\n",
    "\n",
    "\n",
    "try:\n",
    "    # https://www.maketecheasier.com/run-python-script-in-mac/\n",
    "    # File & script must be colocated\n",
    "    file_in = sys.argv[1]\n",
    "    #file_in = \"ppatt_in.rj\"\n",
    "except:\n",
    "    print(\"Please type a valid command, e.g: python3 ppatt.py filename.rj\")\n",
    "\n",
    "    \n",
    "# Read JSON into dict of dicts of lists of dicts (I think)\n",
    "raw_json = json.load(open(file_in, \"r\"))\n",
    "\n",
    "\n",
    "attribute_names = list()\n",
    "for row in raw_json.values():\n",
    "    object_type = row[\"http://www.w3.org/1999/02/22-rdf-syntax-ns#type\"]\n",
    "    \n",
    "    # Extract attributes, drop classes and relations\n",
    "    if object_type[0][\"value\"] == \"http://schema.semantic-web.at/ppt/AttributeProperty\":\n",
    "    \n",
    "        # Extract attribute names\n",
    "        attribute_names.append(row[\"http://www.w3.org/2000/01/rdf-schema#label\"][0][\"value\"]+\"\\n\")\n",
    "\n",
    "        \n",
    "# Sort attributes (insensitive to case)\n",
    "attribute_names.sort(key=lambda v: v.lower())\n",
    "\n",
    "\n",
    "# Write text file\n",
    "file_out = open(\"ppatt_out.txt\", \"w\")\n",
    "file_out.write(\"{} attributes were extracted\\n\\n\\n\".format(len(attribute_names)))\n",
    "for a in attribute_names:\n",
    "    file_out.write(a)"
   ]
  }
 ],
 "metadata": {
  "kernelspec": {
   "display_name": "Python 3",
   "language": "python",
   "name": "python3"
  },
  "language_info": {
   "codemirror_mode": {
    "name": "ipython",
    "version": 3
   },
   "file_extension": ".py",
   "mimetype": "text/x-python",
   "name": "python",
   "nbconvert_exporter": "python",
   "pygments_lexer": "ipython3",
   "version": "3.6.0"
  }
 },
 "nbformat": 4,
 "nbformat_minor": 2
}
